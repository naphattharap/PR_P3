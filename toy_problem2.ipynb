{
 "cells": [
  {
   "cell_type": "markdown",
   "metadata": {},
   "source": [
    "In this practice we are going to predict point x = (4,4) from provided training data by using PCR technique.\n",
    "\n",
    "\n",
    "Since there is no PCR function in Python then we will do PCA and Linear Regression."
   ]
  },
  {
   "cell_type": "code",
   "execution_count": 396,
   "metadata": {},
   "outputs": [],
   "source": [
    "# Import PCA class\n",
    "from sklearn.decomposition import PCA\n",
    "# Linear Regression Class\n",
    "from sklearn.linear_model import LinearRegression\n",
    "# Plotting graph\n",
    "import matplotlib.pyplot as plt\n",
    "# Data Frame for reading CSV to table data\n",
    "import pandas as pd\n",
    "import numpy as np"
   ]
  },
  {
   "cell_type": "code",
   "execution_count": 397,
   "metadata": {},
   "outputs": [
    {
     "data": {
      "text/html": [
       "<div>\n",
       "<style scoped>\n",
       "    .dataframe tbody tr th:only-of-type {\n",
       "        vertical-align: middle;\n",
       "    }\n",
       "\n",
       "    .dataframe tbody tr th {\n",
       "        vertical-align: top;\n",
       "    }\n",
       "\n",
       "    .dataframe thead th {\n",
       "        text-align: right;\n",
       "    }\n",
       "</style>\n",
       "<table border=\"1\" class=\"dataframe\">\n",
       "  <thead>\n",
       "    <tr style=\"text-align: right;\">\n",
       "      <th></th>\n",
       "      <th>x1</th>\n",
       "      <th>x2</th>\n",
       "      <th>y</th>\n",
       "    </tr>\n",
       "  </thead>\n",
       "  <tbody>\n",
       "    <tr>\n",
       "      <th>0</th>\n",
       "      <td>1</td>\n",
       "      <td>0</td>\n",
       "      <td>1</td>\n",
       "    </tr>\n",
       "    <tr>\n",
       "      <th>1</th>\n",
       "      <td>0</td>\n",
       "      <td>1</td>\n",
       "      <td>1</td>\n",
       "    </tr>\n",
       "    <tr>\n",
       "      <th>2</th>\n",
       "      <td>2</td>\n",
       "      <td>1</td>\n",
       "      <td>2</td>\n",
       "    </tr>\n",
       "    <tr>\n",
       "      <th>3</th>\n",
       "      <td>1</td>\n",
       "      <td>2</td>\n",
       "      <td>2</td>\n",
       "    </tr>\n",
       "    <tr>\n",
       "      <th>4</th>\n",
       "      <td>3</td>\n",
       "      <td>2</td>\n",
       "      <td>3</td>\n",
       "    </tr>\n",
       "    <tr>\n",
       "      <th>5</th>\n",
       "      <td>2</td>\n",
       "      <td>3</td>\n",
       "      <td>3</td>\n",
       "    </tr>\n",
       "  </tbody>\n",
       "</table>\n",
       "</div>"
      ],
      "text/plain": [
       "   x1  x2  y\n",
       "0   1   0  1\n",
       "1   0   1  1\n",
       "2   2   1  2\n",
       "3   1   2  2\n",
       "4   3   2  3\n",
       "5   2   3  3"
      ]
     },
     "execution_count": 397,
     "metadata": {},
     "output_type": "execute_result"
    }
   ],
   "source": [
    "# From given feature x1 and x2 \n",
    "x1 = [1, 0, 2, 1, 3, 2]\n",
    "x2 = [0, 1, 1, 2, 2, 3]\n",
    "y = [1, 1, 2, 2, 3, 3]\n",
    "\n",
    "# Create pandas columns to visualize data in table\n",
    "table_data = {\"x1\": x1, \"x2\": x2, \"y\": y}\n",
    "data = pd.DataFrame(data = table_data)\n",
    "# show data\n",
    "data"
   ]
  },
  {
   "cell_type": "code",
   "execution_count": 398,
   "metadata": {},
   "outputs": [
    {
     "data": {
      "text/plain": [
       "<matplotlib.collections.PathCollection at 0x11c48d0f0>"
      ]
     },
     "execution_count": 398,
     "metadata": {},
     "output_type": "execute_result"
    },
    {
     "data": {
      "image/png": "[encoded data removed]",
      "text/plain": [
       "<Figure size 432x288 with 1 Axes>"
      ]
     },
     "metadata": {},
     "output_type": "display_data"
    }
   ],
   "source": [
    "# Plot scatter plot separately according to y result\n",
    "# This is not classification but we can see how data scatter\n",
    "plt.scatter(x1[0:2],x2[0:2])\n",
    "plt.scatter(x1[2:4],x2[2:4])\n",
    "plt.scatter(x1[4:6],x2[4:6])"
   ]
  },
  {
   "cell_type": "code",
   "execution_count": 399,
   "metadata": {},
   "outputs": [],
   "source": [
    "# Transform data to x1, x2 pair for training model \n",
    "# x = [x1, x2]\n",
    "x = [[1, 0],[0, 1], [2,1], [1,2], [3,2],[2,3]]\n",
    "y = [1, 1, 2, 2, 3, 3]"
   ]
  },
  {
   "cell_type": "code",
   "execution_count": 400,
   "metadata": {},
   "outputs": [
    {
     "name": "stdout",
     "output_type": "stream",
     "text": [
      "contribution: [0.72727273]\n",
      "p component:\n",
      " [[ 1.41421356e+00]\n",
      " [ 1.41421356e+00]\n",
      " [ 1.27159291e-17]\n",
      " [-1.27159291e-17]\n",
      " [-1.41421356e+00]\n",
      " [-1.41421356e+00]]\n"
     ]
    }
   ],
   "source": [
    "# Reduce dimension by PCA and get 1d data with n-row\n",
    "pca = PCA(n_components=1)\n",
    "# Fit input X with PCA\n",
    "principle_comp = pca.fit_transform(x)\n",
    "# Check contribution for our maximum eigenvalue\n",
    "print(\"contribution: {}\".format(pca.explained_variance_ratio_)) \n",
    "# See transformed data for selected feature\n",
    "print(\"p component:\\n\", principle_comp)"
   ]
  },
  {
   "cell_type": "code",
   "execution_count": 401,
   "metadata": {},
   "outputs": [
    {
     "data": {
      "text/plain": [
       "LinearRegression(copy_X=True, fit_intercept=True, n_jobs=None,\n",
       "         normalize=False)"
      ]
     },
     "execution_count": 401,
     "metadata": {},
     "output_type": "execute_result"
    }
   ],
   "source": [
    "# Pass new input data after reducing dimention to Linear Regression\n",
    "# Train regression model on training data \n",
    "regr = LinearRegression()\n",
    "# Train data to the model\n",
    "regr.fit(principle_comp, y)"
   ]
  },
  {
   "cell_type": "code",
   "execution_count": 402,
   "metadata": {},
   "outputs": [
    {
     "name": "stdout",
     "output_type": "stream",
     "text": [
      "input [[-3.53553391]], predicted [4.5]\n"
     ]
    }
   ],
   "source": [
    "# Given observation point\n",
    "observed_point_x = [[4,4]]\n",
    "# Reduce dimension to 1 as same as what we have done in PCA above.\n",
    "reduced_dim_observed_x = pca.transform(observed_point_x)\n",
    "# Predict\n",
    "pred = regr.predict(reduced_dim_observed_x)\n",
    "# See result of prediction\n",
    "print(\"input {}, predicted {}\".format(X_reduced_test, pred))"
   ]
  },
  {
   "cell_type": "code",
   "execution_count": 403,
   "metadata": {},
   "outputs": [
    {
     "data": {
      "text/plain": [
       "64.56980515339464"
      ]
     },
     "execution_count": 403,
     "metadata": {},
     "output_type": "execute_result"
    }
   ],
   "source": [
    "from sklearn.metrics import mean_squared_error\n",
    "mean_squared_error(reduced_dim_observed_x, pred)"
   ]
  }
 ],
 "metadata": {
  "kernelspec": {
   "display_name": "Python 3",
   "language": "python",
   "name": "python3"
  },
  "language_info": {
   "codemirror_mode": {
    "name": "ipython",
    "version": 3
   },
   "file_extension": ".py",
   "mimetype": "text/x-python",
   "name": "python",
   "nbconvert_exporter": "python",
   "pygments_lexer": "ipython3",
   "version": "3.6.4"
  }
 },
 "nbformat": 4,
 "nbformat_minor": 2
}
